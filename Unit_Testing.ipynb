{
 "cells": [
  {
   "cell_type": "code",
   "execution_count": 3,
   "id": "87d027c2",
   "metadata": {},
   "outputs": [],
   "source": [
    "import sys\n",
    "NO_PATH = sys.maxsize\n",
    "graph = [[0, 7, NO_PATH, 8],\n",
    "[NO_PATH, 0, 5, NO_PATH],\n",
    "[NO_PATH, NO_PATH, 0, 2],\n",
    "[NO_PATH, NO_PATH, NO_PATH, 0]]\n",
    "MAX_LENGTH = len(graph)"
   ]
  },
  {
   "cell_type": "code",
   "execution_count": 14,
   "id": "3c4d0a8c",
   "metadata": {},
   "outputs": [],
   "source": [
    "# Imperative\n",
    "def floyd(distance):\n",
    "    \n",
    "    for intermediate, start_node, end_node in itertools.product(range(MAX_LENGTH), range(MAX_LENGTH), range(MAX_LENGTH)):\n",
    "#Assume that if start_node and end_node are the same\n",
    "#then the distance would be zero\n",
    "        if start_node == end_node:\n",
    "            distance[start_node][end_node] = 0\n",
    "            continue\n",
    "#return all possible paths and find the minimum\n",
    "    distance[start_node][end_node] = min(distance[start_node][end_node],\n",
    "                                        distance[start_node][intermediate] + \n",
    "                                        distance[intermediate][end_node] )\n",
    "#Any value that have sys.maxsize has no path\n",
    "    print(distance)"
   ]
  },
  {
   "cell_type": "code",
   "execution_count": 15,
   "id": "168433c3",
   "metadata": {},
   "outputs": [
    {
     "name": "stdout",
     "output_type": "stream",
     "text": [
      "[[0, 7, 12, 8], [9223372036854775807, 0, 5, 7], [9223372036854775807, 9223372036854775807, 0, 2], [9223372036854775807, 9223372036854775807, 9223372036854775807, 0]]\n"
     ]
    }
   ],
   "source": [
    "# Recursive\n",
    "def shortestpath(start, end, intermediate, dist):\n",
    "   \n",
    "    # Calculates the distance between start and end nodes\n",
    "    # when there is no intermediate node left\n",
    "    if intermediate == -1:\n",
    "        return dist[start][end]\n",
    "\n",
    "    # Return the minimum between two paths with a different intermediate\n",
    "    # node\n",
    "    else:\n",
    "        return min(shortestpath(start, end, intermediate-1, dist),\n",
    "               shortestpath(start, intermediate, intermediate-1, dist) +\n",
    "               shortestpath(intermediate, end, intermediate-1, dist))\n",
    "\n",
    "\n",
    "def floyd(dist):\n",
    "    \n",
    "    # Calculate the start node/end node\n",
    "    for start_node in range(MAX_LENGTH):\n",
    "        for end_node in range(MAX_LENGTH):\n",
    "\n",
    "    \n",
    "        # calculate the shortest path between\n",
    "        # start node and end node\n",
    "                dist[start_node][end_node] = shortestpath(start_node,\n",
    "                                                          end_node,\n",
    "                                                          MAX_LENGTH-1, dist)\n",
    "    # Output of the function\n",
    "    return dist\n",
    "\n",
    "if __name__ == '__main__':\n",
    "    # Calls the function floyd and passes the definition of graph\n",
    "    print(floyd(graph))"
   ]
  },
  {
   "cell_type": "code",
   "execution_count": 16,
   "id": "45cc09ab",
   "metadata": {},
   "outputs": [],
   "source": [
    "# Samples and Outputs for Unit testing\n",
    "sample_1 = [[0, 5, NO_PATH, 10],\n",
    "            [NO_PATH, 0, 3, NO_PATH],\n",
    "            [NO_PATH, NO_PATH, 0,   1],\n",
    "            [NO_PATH, NO_PATH, NO_PATH, 0]]\n",
    "\n",
    "output_1 = [[0, 5, 8, 9],\n",
    "            [NO_PATH, 0, 3, 4],\n",
    "            [NO_PATH, NO_PATH, 0, 1],\n",
    "            [NO_PATH, NO_PATH, NO_PATH, 0]]\n",
    "\n",
    "sample_2 = [[0, 5, NO_PATH, NO_PATH],\n",
    "            [50, 0, 15, 5],\n",
    "            [30, NO_PATH, 0, 15],\n",
    "            [15, NO_PATH, 5, 0]]\n",
    "\n",
    "output_2 = [[0, 5, 15, 10],\n",
    "            [50, 0, 15, 5],\n",
    "            [30, 35, 0, 15],\n",
    "            [15, 20, 5, 0]]\n",
    "\n",
    "sample_3 = [[4, 4, NO_PATH],\n",
    "            [0, 1, 1],\n",
    "            [1, 2, -1],\n",
    "            [2, 3, -1],\n",
    "            [3, 0, -1]]\n",
    "\n",
    "output_3 = [[0, 1, NO_PATH, NO_PATH],\n",
    "          [NO_PATH, 0, -1, NO_PATH],\n",
    "          [NO_PATH, NO_PATH, 0, -1],\n",
    "          [-1, NO_PATH, NO_PATH, 0]]"
   ]
  },
  {
   "cell_type": "code",
   "execution_count": 18,
   "id": "5239588a",
   "metadata": {},
   "outputs": [
    {
     "name": "stderr",
     "output_type": "stream",
     "text": [
      "E\n",
      "======================================================================\n",
      "ERROR: /Users/atikarnpattamavichaiporn/Library/Jupyter/runtime/kernel-e1fa8ae9-f810-4140-b522-47140aefe854 (unittest.loader._FailedTest)\n",
      "----------------------------------------------------------------------\n",
      "AttributeError: module '__main__' has no attribute '/Users/atikarnpattamavichaiporn/Library/Jupyter/runtime/kernel-e1fa8ae9-f810-4140-b522-47140aefe854'\n",
      "\n",
      "----------------------------------------------------------------------\n",
      "Ran 1 test in 0.006s\n",
      "\n",
      "FAILED (errors=1)\n"
     ]
    },
    {
     "ename": "SystemExit",
     "evalue": "True",
     "output_type": "error",
     "traceback": [
      "An exception has occurred, use %tb to see the full traceback.\n",
      "\u001b[0;31mSystemExit\u001b[0m\u001b[0;31m:\u001b[0m True\n"
     ]
    },
    {
     "name": "stderr",
     "output_type": "stream",
     "text": [
      "/Users/atikarnpattamavichaiporn/anaconda3/lib/python3.10/site-packages/IPython/core/interactiveshell.py:3468: UserWarning: To exit: use 'exit', 'quit', or Ctrl-D.\n",
      "  warn(\"To exit: use 'exit', 'quit', or Ctrl-D.\", stacklevel=1)\n"
     ]
    }
   ],
   "source": [
    "# Test Imperative function, sample 1\n",
    "def test_floyd1(self):\n",
    "    self.assertEqual(floyd(sample_1), output_1, \"Incorrect\")\n",
    "    \n",
    "if __name__ == '__main__':\n",
    "    unittest.main()"
   ]
  },
  {
   "cell_type": "code",
   "execution_count": 19,
   "id": "6635c0fb",
   "metadata": {},
   "outputs": [
    {
     "name": "stderr",
     "output_type": "stream",
     "text": [
      "E\n",
      "======================================================================\n",
      "ERROR: /Users/atikarnpattamavichaiporn/Library/Jupyter/runtime/kernel-e1fa8ae9-f810-4140-b522-47140aefe854 (unittest.loader._FailedTest)\n",
      "----------------------------------------------------------------------\n",
      "AttributeError: module '__main__' has no attribute '/Users/atikarnpattamavichaiporn/Library/Jupyter/runtime/kernel-e1fa8ae9-f810-4140-b522-47140aefe854'\n",
      "\n",
      "----------------------------------------------------------------------\n",
      "Ran 1 test in 0.003s\n",
      "\n",
      "FAILED (errors=1)\n"
     ]
    },
    {
     "ename": "SystemExit",
     "evalue": "True",
     "output_type": "error",
     "traceback": [
      "An exception has occurred, use %tb to see the full traceback.\n",
      "\u001b[0;31mSystemExit\u001b[0m\u001b[0;31m:\u001b[0m True\n"
     ]
    },
    {
     "name": "stderr",
     "output_type": "stream",
     "text": [
      "/Users/atikarnpattamavichaiporn/anaconda3/lib/python3.10/site-packages/IPython/core/interactiveshell.py:3468: UserWarning: To exit: use 'exit', 'quit', or Ctrl-D.\n",
      "  warn(\"To exit: use 'exit', 'quit', or Ctrl-D.\", stacklevel=1)\n"
     ]
    }
   ],
   "source": [
    "# Test Recursive function, sample 1\n",
    "def test_floyd1(self):\n",
    "    self.assertEqual(floyd_r(sample_1), output_1, \"Incorrect\")\n",
    "    \n",
    "if __name__ == '__main__':\n",
    "    unittest.main()"
   ]
  },
  {
   "cell_type": "code",
   "execution_count": 20,
   "id": "dcdb6024",
   "metadata": {},
   "outputs": [
    {
     "name": "stderr",
     "output_type": "stream",
     "text": [
      "E\n",
      "======================================================================\n",
      "ERROR: /Users/atikarnpattamavichaiporn/Library/Jupyter/runtime/kernel-e1fa8ae9-f810-4140-b522-47140aefe854 (unittest.loader._FailedTest)\n",
      "----------------------------------------------------------------------\n",
      "AttributeError: module '__main__' has no attribute '/Users/atikarnpattamavichaiporn/Library/Jupyter/runtime/kernel-e1fa8ae9-f810-4140-b522-47140aefe854'\n",
      "\n",
      "----------------------------------------------------------------------\n",
      "Ran 1 test in 0.009s\n",
      "\n",
      "FAILED (errors=1)\n"
     ]
    },
    {
     "ename": "SystemExit",
     "evalue": "True",
     "output_type": "error",
     "traceback": [
      "An exception has occurred, use %tb to see the full traceback.\n",
      "\u001b[0;31mSystemExit\u001b[0m\u001b[0;31m:\u001b[0m True\n"
     ]
    },
    {
     "name": "stderr",
     "output_type": "stream",
     "text": [
      "/Users/atikarnpattamavichaiporn/anaconda3/lib/python3.10/site-packages/IPython/core/interactiveshell.py:3468: UserWarning: To exit: use 'exit', 'quit', or Ctrl-D.\n",
      "  warn(\"To exit: use 'exit', 'quit', or Ctrl-D.\", stacklevel=1)\n"
     ]
    }
   ],
   "source": [
    "# Test Imperative function, sample 3\n",
    "def test_floyd1(self):\n",
    "    self.assertEqual(floyd(sample_3), output_3, \"Incorrect\")\n",
    "    \n",
    "if __name__ == '__main__':\n",
    "    unittest.main()"
   ]
  },
  {
   "cell_type": "code",
   "execution_count": 21,
   "id": "763be132",
   "metadata": {},
   "outputs": [
    {
     "name": "stderr",
     "output_type": "stream",
     "text": [
      "E\n",
      "======================================================================\n",
      "ERROR: /Users/atikarnpattamavichaiporn/Library/Jupyter/runtime/kernel-e1fa8ae9-f810-4140-b522-47140aefe854 (unittest.loader._FailedTest)\n",
      "----------------------------------------------------------------------\n",
      "AttributeError: module '__main__' has no attribute '/Users/atikarnpattamavichaiporn/Library/Jupyter/runtime/kernel-e1fa8ae9-f810-4140-b522-47140aefe854'\n",
      "\n",
      "----------------------------------------------------------------------\n",
      "Ran 1 test in 0.006s\n",
      "\n",
      "FAILED (errors=1)\n"
     ]
    },
    {
     "ename": "SystemExit",
     "evalue": "True",
     "output_type": "error",
     "traceback": [
      "An exception has occurred, use %tb to see the full traceback.\n",
      "\u001b[0;31mSystemExit\u001b[0m\u001b[0;31m:\u001b[0m True\n"
     ]
    },
    {
     "name": "stderr",
     "output_type": "stream",
     "text": [
      "/Users/atikarnpattamavichaiporn/anaconda3/lib/python3.10/site-packages/IPython/core/interactiveshell.py:3468: UserWarning: To exit: use 'exit', 'quit', or Ctrl-D.\n",
      "  warn(\"To exit: use 'exit', 'quit', or Ctrl-D.\", stacklevel=1)\n"
     ]
    }
   ],
   "source": [
    "# Test Recursive function, sample 3\n",
    "def test_floyd1(self):\n",
    "    self.assertEqual(floyd_r(sample_3), output_3, \"Incorrect\")\n",
    "    \n",
    "if __name__ == '__main__':\n",
    "    unittest.main()"
   ]
  },
  {
   "cell_type": "code",
   "execution_count": null,
   "id": "9b344a6c",
   "metadata": {},
   "outputs": [],
   "source": []
  }
 ],
 "metadata": {
  "kernelspec": {
   "display_name": "Python 3 (ipykernel)",
   "language": "python",
   "name": "python3"
  },
  "language_info": {
   "codemirror_mode": {
    "name": "ipython",
    "version": 3
   },
   "file_extension": ".py",
   "mimetype": "text/x-python",
   "name": "python",
   "nbconvert_exporter": "python",
   "pygments_lexer": "ipython3",
   "version": "3.10.9"
  }
 },
 "nbformat": 4,
 "nbformat_minor": 5
}
