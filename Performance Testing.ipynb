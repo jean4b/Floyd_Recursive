{
 "cells": [
  {
   "cell_type": "code",
   "execution_count": 8,
   "id": "5afcf613",
   "metadata": {},
   "outputs": [],
   "source": [
    "NO_PATH = sys.maxsize\n",
    "graph = [[0, 7, NO_PATH, 8],\n",
    "[NO_PATH, 0, 5, NO_PATH],\n",
    "[NO_PATH, NO_PATH, 0, 2],\n",
    "[NO_PATH, NO_PATH, NO_PATH, 0]]\n",
    "MAX_LENGTH = len(graph)"
   ]
  },
  {
   "cell_type": "code",
   "execution_count": 1,
   "id": "608b7d55",
   "metadata": {},
   "outputs": [],
   "source": [
    "# Imperative\n",
    "def floyd(distance):\n",
    "    \n",
    "    for intermediate, start_node, end_node in itertools.product(range(MAX_LENGTH), range(MAX_LENGTH), range(MAX_LENGTH)):\n",
    "#Assume that if start_node and end_node are the same\n",
    "#then the distance would be zero\n",
    "        if start_node == end_node:\n",
    "            distance[start_node][end_node] = 0\n",
    "            continue\n",
    "#return all possible paths and find the minimum\n",
    "    distance[start_node][end_node] = min(distance[start_node][end_node],\n",
    "                                        distance[start_node][intermediate] + \n",
    "                                        distance[intermediate][end_node] )\n",
    "#Any value that have sys.maxsize has no path\n",
    "    print(distance)"
   ]
  },
  {
   "cell_type": "code",
   "execution_count": 13,
   "id": "0ecaf9ad",
   "metadata": {},
   "outputs": [],
   "source": [
    "# Imperative\n",
    "def floyd(distance):\n",
    "    \n",
    "    for intermediate, start_node, end_node in itertools.product(range(MAX_LENGTH), range(MAX_LENGTH), range(MAX_LENGTH)):\n",
    "#Assume that if start_node and end_node are the same\n",
    "#then the distance would be zero\n",
    "        if start_node == end_node:\n",
    "            distance[start_node][end_node] = 0\n",
    "            continue\n",
    "#return all possible paths and find the minimum\n",
    "    distance[start_node][end_node] = min(distance[start_node][end_node],\n",
    "                                        distance[start_node][intermediate] + \n",
    "                                        distance[intermediate][end_node] )\n",
    "#Any value that have sys.maxsize has no path\n",
    "    print(distance)"
   ]
  },
  {
   "cell_type": "code",
   "execution_count": 11,
   "id": "b2d6e019",
   "metadata": {},
   "outputs": [
    {
     "name": "stdout",
     "output_type": "stream",
     "text": [
      "[[0, 7, 12, 8], [9223372036854775807, 0, 5, 7], [9223372036854775807, 9223372036854775807, 0, 2], [9223372036854775807, 9223372036854775807, 9223372036854775807, 0]]\n"
     ]
    }
   ],
   "source": [
    "# Recursive\n",
    "def shortestpath(start, end, intermediate, dist):\n",
    "   \n",
    "    # Calculates the distance between start and end nodes\n",
    "    # when there is no intermediate node left\n",
    "    if intermediate == -1:\n",
    "        return dist[start][end]\n",
    "\n",
    "    # Return the minimum between two paths with a different intermediate\n",
    "    # node\n",
    "    else:\n",
    "        return min(shortestpath(start, end, intermediate-1, dist),\n",
    "               shortestpath(start, intermediate, intermediate-1, dist) +\n",
    "               shortestpath(intermediate, end, intermediate-1, dist))\n",
    "\n",
    "\n",
    "def floyd_r(dist):\n",
    "    \n",
    "    # Calculate the start node/end node\n",
    "    for start_node in range(MAX_LENGTH):\n",
    "        for end_node in range(MAX_LENGTH):\n",
    "\n",
    "    \n",
    "        # calculate the shortest path between\n",
    "        # start node and end node\n",
    "                dist[start_node][end_node] = shortestpath(start_node,\n",
    "                                                          end_node,\n",
    "                                                          MAX_LENGTH-1, dist)\n",
    "    # Output of the function\n",
    "    return dist\n",
    "\n",
    "if __name__ == '__main__':\n",
    "    # Calls the function floyd and passes the definition of graph\n",
    "    print(floyd(graph))"
   ]
  },
  {
   "cell_type": "code",
   "execution_count": 14,
   "id": "3fb2d0d6",
   "metadata": {},
   "outputs": [],
   "source": [
    "sample_1 = [[0, 5, NO_PATH, 10],\n",
    "            [NO_PATH, 0, 3, NO_PATH],\n",
    "            [NO_PATH, NO_PATH, 0,   1],\n",
    "            [NO_PATH, NO_PATH, NO_PATH, 0]]\n",
    "\n",
    "output_1 = [[0, 5, 8, 9],\n",
    "            [NO_PATH, 0, 3, 4],\n",
    "            [NO_PATH, NO_PATH, 0, 1],\n",
    "            [NO_PATH, NO_PATH, NO_PATH, 0]]\n",
    "\n",
    "sample_2 = [[0, 5, NO_PATH, NO_PATH],\n",
    "            [50, 0, 15, 5],\n",
    "            [30, NO_PATH, 0, 15],\n",
    "            [15, NO_PATH, 5, 0]]\n",
    "\n",
    "output_2 = [[0, 5, 15, 10],\n",
    "            [50, 0, 15, 5],\n",
    "            [30, 35, 0, 15],\n",
    "            [15, 20, 5, 0]]\n",
    "\n",
    "sample_3 = [[4, 4, NO_PATH],\n",
    "            [0, 1, 1],\n",
    "            [1, 2, -1],\n",
    "            [2, 3, -1],\n",
    "            [3, 0, -1]]\n",
    "\n",
    "output_3 = [[0, 1, NO_PATH, NO_PATH],\n",
    "          [NO_PATH, 0, -1, NO_PATH],\n",
    "          [NO_PATH, NO_PATH, 0, -1],\n",
    "          [-1, NO_PATH, NO_PATH, 0]]"
   ]
  },
  {
   "cell_type": "markdown",
   "id": "a911a01a",
   "metadata": {},
   "source": [
    "Performance Test"
   ]
  },
  {
   "cell_type": "code",
   "execution_count": 33,
   "id": "7ae0946c",
   "metadata": {},
   "outputs": [
    {
     "name": "stdout",
     "output_type": "stream",
     "text": [
      "[[0, 5, 8, 9], [9223372036854775807, 0, 3, 4], [9223372036854775807, 9223372036854775807, 0, 1], [9223372036854775807, 9223372036854775807, 9223372036854775807, 0]]\n",
      "         30 function calls in 0.001 seconds\n",
      "\n",
      "   Ordered by: standard name\n",
      "\n",
      "   ncalls  tottime  percall  cumtime  percall filename:lineno(function)\n",
      "        1    0.000    0.000    0.001    0.001 1050791809.py:2(floyd)\n",
      "        1    0.000    0.000    0.001    0.001 <string>:1(<module>)\n",
      "        1    0.000    0.000    0.001    0.001 iostream.py:202(schedule)\n",
      "        2    0.000    0.000    0.000    0.000 iostream.py:437(_is_master_process)\n",
      "        2    0.000    0.000    0.001    0.000 iostream.py:456(_schedule_flush)\n",
      "        2    0.000    0.000    0.001    0.000 iostream.py:526(write)\n",
      "        1    0.000    0.000    0.000    0.000 iostream.py:90(_event_pipe)\n",
      "        1    0.001    0.001    0.001    0.001 socket.py:543(send)\n",
      "        1    0.000    0.000    0.000    0.000 threading.py:1102(_wait_for_tstate_lock)\n",
      "        1    0.000    0.000    0.000    0.000 threading.py:1169(is_alive)\n",
      "        1    0.000    0.000    0.000    0.000 threading.py:553(is_set)\n",
      "        1    0.000    0.000    0.001    0.001 {built-in method builtins.exec}\n",
      "        2    0.000    0.000    0.000    0.000 {built-in method builtins.isinstance}\n",
      "        2    0.000    0.000    0.000    0.000 {built-in method builtins.len}\n",
      "        1    0.000    0.000    0.000    0.000 {built-in method builtins.min}\n",
      "        1    0.000    0.000    0.001    0.001 {built-in method builtins.print}\n",
      "        2    0.000    0.000    0.000    0.000 {built-in method posix.getpid}\n",
      "        2    0.000    0.000    0.000    0.000 {method '__exit__' of '_thread.RLock' objects}\n",
      "        1    0.000    0.000    0.000    0.000 {method 'acquire' of '_thread.lock' objects}\n",
      "        1    0.000    0.000    0.000    0.000 {method 'append' of 'collections.deque' objects}\n",
      "        1    0.000    0.000    0.000    0.000 {method 'disable' of '_lsprof.Profiler' objects}\n",
      "        2    0.000    0.000    0.000    0.000 {method 'write' of '_io.StringIO' objects}\n",
      "\n",
      "\n"
     ]
    }
   ],
   "source": [
    "# Imperative performance test\n",
    "import sys\n",
    "import os\n",
    "import cProfile\n",
    "\n",
    "cProfile.run(\"floyd(sample_1)\")"
   ]
  },
  {
   "cell_type": "code",
   "execution_count": 34,
   "id": "f78d81d8",
   "metadata": {},
   "outputs": [
    {
     "name": "stdout",
     "output_type": "stream",
     "text": [
      "         2580 function calls (660 primitive calls) in 0.001 seconds\n",
      "\n",
      "   Ordered by: standard name\n",
      "\n",
      "   ncalls  tottime  percall  cumtime  percall filename:lineno(function)\n",
      "        1    0.000    0.000    0.001    0.001 55964485.py:17(floyd_r)\n",
      "  1936/16    0.001    0.000    0.001    0.000 55964485.py:2(shortestpath)\n",
      "        1    0.000    0.000    0.001    0.001 <string>:1(<module>)\n",
      "        1    0.000    0.000    0.001    0.001 {built-in method builtins.exec}\n",
      "      640    0.000    0.000    0.000    0.000 {built-in method builtins.min}\n",
      "        1    0.000    0.000    0.000    0.000 {method 'disable' of '_lsprof.Profiler' objects}\n",
      "\n",
      "\n"
     ]
    }
   ],
   "source": [
    "# Recursive performance test\n",
    "cProfile.run(\"floyd_r(sample_1)\")"
   ]
  }
 ],
 "metadata": {
  "kernelspec": {
   "display_name": "Python 3 (ipykernel)",
   "language": "python",
   "name": "python3"
  },
  "language_info": {
   "codemirror_mode": {
    "name": "ipython",
    "version": 3
   },
   "file_extension": ".py",
   "mimetype": "text/x-python",
   "name": "python",
   "nbconvert_exporter": "python",
   "pygments_lexer": "ipython3",
   "version": "3.10.9"
  }
 },
 "nbformat": 4,
 "nbformat_minor": 5
}
