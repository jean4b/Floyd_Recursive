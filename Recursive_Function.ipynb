{
 "cells": [
  {
   "cell_type": "code",
   "execution_count": 1,
   "id": "65f3898b",
   "metadata": {},
   "outputs": [],
   "source": [
    "import sys\n",
    "NO_PATH = sys.maxsize\n",
    "graph = [[0, 7, NO_PATH, 8],\n",
    "[NO_PATH, 0, 5, NO_PATH],\n",
    "[NO_PATH, NO_PATH, 0, 2],\n",
    "[NO_PATH, NO_PATH, NO_PATH, 0]]\n",
    "MAX_LENGTH = len(graph)"
   ]
  },
  {
   "cell_type": "code",
   "execution_count": 2,
   "id": "76e0fd9c",
   "metadata": {},
   "outputs": [
    {
     "name": "stdout",
     "output_type": "stream",
     "text": [
      "[[0, 7, 12, 8], [9223372036854775807, 0, 5, 7], [9223372036854775807, 9223372036854775807, 0, 2], [9223372036854775807, 9223372036854775807, 9223372036854775807, 0]]\n"
     ]
    }
   ],
   "source": [
    "# Function calculating the shortest path using a recursive function\n",
    "def shortestpath(start, end, intermediate, dist):\n",
    "   \n",
    "    # Calculates the distance between start and end nodes\n",
    "    # when there is no intermediate node left\n",
    "    if intermediate == -1:\n",
    "        return dist[start][end]\n",
    "\n",
    "    # Return the minimum between two paths with a different intermediate\n",
    "    # node\n",
    "    else:\n",
    "        return min(shortestpath(start, end, intermediate-1, dist),\n",
    "               shortestpath(start, intermediate, intermediate-1, dist) +\n",
    "               shortestpath(intermediate, end, intermediate-1, dist))\n",
    "\n",
    "\n",
    "def floyd(dist):\n",
    "    \n",
    "    # Calculate the start node/end node\n",
    "    for start_node in range(MAX_LENGTH):\n",
    "        for end_node in range(MAX_LENGTH):\n",
    "\n",
    "    \n",
    "        # calculate the shortest path between\n",
    "        # start node and end node\n",
    "                dist[start_node][end_node] = shortestpath(start_node,\n",
    "                                                          end_node,\n",
    "                                                          MAX_LENGTH-1, dist)\n",
    "    # Output of the function\n",
    "    return dist\n",
    "\n",
    "if __name__ == '__main__':\n",
    "    # Calls the function floyd and passes the definition of graph\n",
    "    print(floyd(graph))"
   ]
  },
  {
   "cell_type": "code",
   "execution_count": null,
   "id": "6891d243",
   "metadata": {},
   "outputs": [],
   "source": []
  }
 ],
 "metadata": {
  "kernelspec": {
   "display_name": "Python 3 (ipykernel)",
   "language": "python",
   "name": "python3"
  },
  "language_info": {
   "codemirror_mode": {
    "name": "ipython",
    "version": 3
   },
   "file_extension": ".py",
   "mimetype": "text/x-python",
   "name": "python",
   "nbconvert_exporter": "python",
   "pygments_lexer": "ipython3",
   "version": "3.10.9"
  }
 },
 "nbformat": 4,
 "nbformat_minor": 5
}
